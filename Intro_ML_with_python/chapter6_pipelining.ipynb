{
 "cells": [
  {
   "cell_type": "code",
   "execution_count": 2,
   "metadata": {},
   "outputs": [],
   "source": [
    "import mglearn"
   ]
  },
  {
   "cell_type": "markdown",
   "metadata": {},
   "source": [
    "## Scale하고 PCA한 후 Scale을 하고 싶거나\n",
    "## Scale하고 model을 돌리거나\n",
    "## 각 fold에 대해 Scale하고 CV를 돌리고 싶다\n",
    "\n",
    "# 한 번에 할 수 있는 방법 없을까?\n",
    "> 파이프라인(Pipeline)"
   ]
  },
  {
   "cell_type": "markdown",
   "metadata": {},
   "source": [
    "--------"
   ]
  },
  {
   "cell_type": "markdown",
   "metadata": {},
   "source": [
    "# 파이프라인 (Pipeline) \n",
    "> 일련의 전처리 or 머신러닝 알고리즘을 연결시킨 것 (379p)\n",
    "\n",
    "(Scaling, PCA, etc)\n",
    "\n"
   ]
  },
  {
   "cell_type": "markdown",
   "metadata": {},
   "source": [
    "--------"
   ]
  },
  {
   "cell_type": "markdown",
   "metadata": {},
   "source": [
    "# CV with Pipeline"
   ]
  },
  {
   "cell_type": "markdown",
   "metadata": {},
   "source": [
    "# 안 좋은 예"
   ]
  },
  {
   "cell_type": "markdown",
   "metadata": {},
   "source": [
    "# 좋은 예"
   ]
  },
  {
   "cell_type": "markdown",
   "metadata": {},
   "source": [
    "### 전체 training set에 fit한 scaling계수로 CV fold를 scale하면 무슨 문제가 생길까?\n",
    "> 각 CV fold에 전체 training의 scaling이 반영되므로 제대로된 전처리가 아님\n",
    "\n",
    "> 따라서 잘못된 결과 도출\n",
    "\n",
    "> 각 fold마다 scaling해주려면? 복잡하다\n",
    "\n",
    "> 이럴 때 Pipeline 써라"
   ]
  },
  {
   "cell_type": "markdown",
   "metadata": {},
   "source": [
    "---"
   ]
  },
  {
   "cell_type": "markdown",
   "metadata": {},
   "source": [
    "# How to use\n",
    "ex) 만약 SVC하기 전 scaling을 적용하고 싶다면"
   ]
  },
  {
   "cell_type": "code",
   "execution_count": null,
   "metadata": {},
   "outputs": [],
   "source": [
    "from sklearn.pipeline import make_pipeline\n",
    "pipe_long = Pipeline([('scaler',MinMaxScaler()),('svm',SVC(C=100))])\n",
    "pipe_short = make_pipeline(MinMaxScaler(), SVC(C=100))"
   ]
  },
  {
   "cell_type": "markdown",
   "metadata": {},
   "source": [
    "# 각 파이프라인 단계를 확인하고 싶다"
   ]
  },
  {
   "cell_type": "code",
   "execution_count": null,
   "metadata": {},
   "outputs": [],
   "source": [
    "pipe_long.named_steps['scaler']"
   ]
  },
  {
   "cell_type": "markdown",
   "metadata": {},
   "source": [
    "# 주의사항\n",
    "> 전단계.fit(X,y) -> 전단계.transform(X)처럼 이어가는 형식이므로\n",
    "\n",
    "> 각 단계의 component들이 연결되는지 체크한다"
   ]
  },
  {
   "cell_type": "markdown",
   "metadata": {},
   "source": []
  }
 ],
 "metadata": {
  "kernelspec": {
   "display_name": "Python 3",
   "language": "python",
   "name": "python3"
  },
  "language_info": {
   "codemirror_mode": {
    "name": "ipython",
    "version": 3
   },
   "file_extension": ".py",
   "mimetype": "text/x-python",
   "name": "python",
   "nbconvert_exporter": "python",
   "pygments_lexer": "ipython3",
   "version": "3.6.3"
  }
 },
 "nbformat": 4,
 "nbformat_minor": 2
}
