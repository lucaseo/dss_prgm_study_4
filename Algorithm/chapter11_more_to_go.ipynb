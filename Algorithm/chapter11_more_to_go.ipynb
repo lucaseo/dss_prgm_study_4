{
 "cells": [
  {
   "cell_type": "markdown",
   "metadata": {},
   "source": [
    "# 트리\n",
    "    = 부모 <-> 자식 관계로 정점을 표현한 자료구조\n",
    "    = 보통 트리에선 정점을 노드라 부름\n",
    "    = 전체 데이터가 반씩 나뉘는 효과가 있어 성능과 관련한 문제해결에 많이 쓰임"
   ]
  },
  {
   "cell_type": "markdown",
   "metadata": {},
   "source": [
    "# 이진트리\n",
    "    = 한 부모당 최대 두 개의 자식노드를 가지는 트리"
   ]
  },
  {
   "cell_type": "markdown",
   "metadata": {},
   "source": [
    "# 이진탐색트리\n",
    "    = 이진트리면서 모든 노드에 대해\n",
    "    \n",
    "    왼쪽자식의 값 < 부모의 값 < 오른쪽자식의 값 을 만족하는 트리"
   ]
  },
  {
   "cell_type": "markdown",
   "metadata": {},
   "source": [
    "# 이진탐색트리의 장점\n",
    "    = 이진탐색트리에 값이 삽입되면 정의에 의해 알아서 정렬됨\n",
    "    = 탐색할 때 이진탐색한 것과 같은 효과 O(logn)"
   ]
  },
  {
   "cell_type": "markdown",
   "metadata": {},
   "source": [
    "# 이진탐색트리의 단점\n",
    "    = 최악의 경우 노드가 한 쪽 방향으로만 치우쳐있다면 O(n)이 됨 (이를 보고 skew한 tree다 라고 부름)\n",
    "    = 이진탐색트리를 쓰는 이유가 없어진다"
   ]
  },
  {
   "cell_type": "markdown",
   "metadata": {},
   "source": [
    "# Skewness에 의한 성능저하를 막으려면\n",
    "   > 양방향을 같은 비율로 self balancing하면 된다\n",
    "   \n",
    "self balancing 트리의 종류로는 AVL Tree, red-black tree 등이 있다"
   ]
  },
  {
   "cell_type": "markdown",
   "metadata": {},
   "source": [
    "------"
   ]
  },
  {
   "cell_type": "markdown",
   "metadata": {},
   "source": [
    "### 어떤 Dictionary가 있다고 가정하면\n",
    "## 인덱스 방법은\n",
    "    = key를 통해 value를 찾음\n",
    "## 역 인덱스 방법은\n",
    "    = value를 통해 key를 찾음\n",
    "    = 특정 단어(value)가 포함된 문서(key)를 찾는 문제에 쓰임"
   ]
  },
  {
   "cell_type": "markdown",
   "metadata": {},
   "source": [
    "-----"
   ]
  },
  {
   "cell_type": "markdown",
   "metadata": {},
   "source": [
    "# 퓨리에 변환\n",
    "    = 소리를 주파수 별로 분리함\n",
    "    = 행렬곱셈을 빠르게 하는데도 쓰임"
   ]
  },
  {
   "cell_type": "markdown",
   "metadata": {},
   "source": [
    "-----"
   ]
  },
  {
   "cell_type": "markdown",
   "metadata": {},
   "source": [
    "### 1부터 100만까지의 합을 구하는 프로그램이 있을 때,\n",
    "1. 차례대로 전부 더하면 Serial program\n",
    "2. 구간을 나눠서 동시에 더하면 Parallel program"
   ]
  },
  {
   "cell_type": "markdown",
   "metadata": {},
   "source": [
    "# 주의사항\n",
    "* Serial program을 Parallel program으로 convert시키는 보편적인 방법은 존재하지 않음\n",
    "\n",
    "(프로그램의 논리적인 진행순서에 따라 사람이 다시 짜야 함)\n",
    "* 원래 하나의 CPU로 돌리던 걸 두개로 돌린다고 성능이 두배 나아지지 않음\n",
    "* 얼마만큼 나아지는진 machine마다 다르고 알고리즘마다 다르다"
   ]
  },
  {
   "cell_type": "markdown",
   "metadata": {},
   "source": [
    "-----"
   ]
  },
  {
   "cell_type": "markdown",
   "metadata": {},
   "source": [
    "# 맵리듀스란\n",
    "   > 여러 컴퓨터(클러스터)가 할 일을 정의하고(Map) 각 결과를 최종결과(Reduce)로 도출하는 방법\n",
    "   \n",
    "1. 각 컴퓨터(머신,노드)는 given dataset에 대해 정의된 Map하고    \n",
    "2. 모든 결과를 하나의 결과로 Reduce한다"
   ]
  },
  {
   "cell_type": "markdown",
   "metadata": {},
   "source": [
    "## 왜 이렇게 하나\n",
    "1. 분산처리의 핵심 = 로직이 간단해야 한다\n",
    "2. 간단함을 위해 결과는 하나로 집약되야 한다\n",
    "\n",
    "3. 그러기 위해, 중간에 여러 서버에서 나온 output끼리 어떤 순서로 연산하더라도 최종결과는 같아야 한다.\n",
    "\n",
    "4. 고로 output의 field에서 교환법칙과 결합법칙이 성립해야 함"
   ]
  },
  {
   "cell_type": "markdown",
   "metadata": {},
   "source": [
    "-------"
   ]
  },
  {
   "cell_type": "markdown",
   "metadata": {},
   "source": [
    "### 정확한 답이 필요한 경우\n",
    "1. Exhaustive search\n",
    "2. 1번의 효과를 내는, 그것과 다름없는 최적화\n",
    "\n",
    "### 꼭 정확한 답이 필요하지 않은 경우, 데이터가 너무 많은 경우\n",
    "1. 확률론적 방법으로 근사한 답을 찾음\n",
    "\n",
    "# 블룸 필터, 하이퍼로그로그는 근사한 답을 찾는 방법"
   ]
  },
  {
   "cell_type": "markdown",
   "metadata": {},
   "source": [
    "-----"
   ]
  },
  {
   "cell_type": "markdown",
   "metadata": {},
   "source": [
    "## SHA(문자열) = 해쉬값\n",
    "1. 해쉬값은 각 문자열에 대해 유일함. (역함수?)\n",
    "2. 해쉬값에서 문자열을 알아낼 순 없다\n",
    "\n",
    "## 언제 쓰나\n",
    "1. 큰 파일비교\n",
    "2. 패스워드 비교 (데이터베이스에 저장된 회원비밀번호)\n",
    "\n",
    "### 문자열이 조금만 바뀐다면 해쉬값도 그렇게 하고 싶다 \n",
    "   > Simhash (지역민감해쉬)"
   ]
  },
  {
   "cell_type": "markdown",
   "metadata": {},
   "source": [
    "---------"
   ]
  },
  {
   "cell_type": "markdown",
   "metadata": {},
   "source": [
    "## 디피-헬먼 키?\n",
    "1. Alice와 Bob은 서로 비밀을 교환하는 사이\n",
    "2. Alice와 Bob은 똑같은 Public key를 공유함\n",
    "3. 하지만 아무한테도 알려선 안되는 Private key를 각각 가짐\n",
    "4. Alice가 Bob에게 비밀을 보냄\n",
    "5. Bob은 Public Key와 자신의 Private Key로 비밀을 해독"
   ]
  },
  {
   "cell_type": "markdown",
   "metadata": {},
   "source": [
    "-----------"
   ]
  },
  {
   "cell_type": "markdown",
   "metadata": {},
   "source": [
    "## 선형 프로그래밍\n",
    "    = 목적함수를 정의하고\n",
    "    = 주어진 제한조건은 방정식으로 표현했을 때\n",
    "    = 목적함수를 최대화하는 해를 찾는 것이 목표다\n",
    "    (flat의 꼭지점 중에 우리가 찾는 답이 있다, 최적화, 미분해서 기울기가 0인 점)\n",
    "    \n",
    "## 만약 차원이 많고 꼭지점이 많다면\n",
    "> 모든 candidates(꼭지점)에 대해 최대값을 구하는건 시간이 오래 걸림\n",
    "\n",
    "## 그렇다면 Simplex\n",
    "   = 값이 제일 많이 커지는 방향으로만 이동하며 최대값을 찾음 (Gradient)\n",
    "   \n",
    "   = global maxima가 아닌 local maxima만 고려하므로 Greedy Algorithm이다\n",
    "   \n",
    "   = 선형 프로그래밍, 즉 NP-완전문제에 대해 빠른 해답이 존재하지 않으므로 근사 알고리즘으로 Simplex 알고리즘을 썼을 것이다"
   ]
  }
 ],
 "metadata": {
  "kernelspec": {
   "display_name": "Python 3",
   "language": "python",
   "name": "python3"
  },
  "language_info": {
   "codemirror_mode": {
    "name": "ipython",
    "version": 3
   },
   "file_extension": ".py",
   "mimetype": "text/x-python",
   "name": "python",
   "nbconvert_exporter": "python",
   "pygments_lexer": "ipython3",
   "version": "3.6.3"
  }
 },
 "nbformat": 4,
 "nbformat_minor": 2
}
