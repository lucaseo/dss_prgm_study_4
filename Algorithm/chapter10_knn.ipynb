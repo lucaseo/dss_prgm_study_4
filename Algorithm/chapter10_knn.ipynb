{
 "cells": [
  {
   "cell_type": "markdown",
   "metadata": {},
   "source": [
    "# KNN 알고리즘\n",
    "   1. 특정 점을 가장 비슷한 수가 많은 이웃점(Neighbor)들과 같은 그룹으로 추측하는 것\n",
    "   2. 크게 __분류(Classification)__, __회귀(Regression)__의 기능을 한다\n",
    "   3. 비슷한 특징을 가진 점들끼리 같은 분류로 취급하므로 __Clustering__ 알고리즘의 한 종류이다"
   ]
  },
  {
   "cell_type": "markdown",
   "metadata": {},
   "source": [
    "## 특정 점을 기준으로 비슷한 점들을 셀 때 비슷함의 기준이 되는 것\n",
    "## = 유사도 (similarity)         "
   ]
  },
  {
   "cell_type": "markdown",
   "metadata": {},
   "source": [
    "## 유사도의 종류\n",
    "1. 유클리드 유사도(거리 유사도) = 두 점간 거리가 얼마나 가깝나\n",
    "2. 코사인 유사도(벡터 유사도) = 두 벡터간 방향이 얼마나 비슷한가"
   ]
  },
  {
   "cell_type": "markdown",
   "metadata": {},
   "source": [
    "---------"
   ]
  },
  {
   "cell_type": "markdown",
   "metadata": {},
   "source": [
    "# KNN의 기능\n",
    "1. 분류 = 같은 그룹으로 나눔\n",
    "2. 회귀 = 예측하고 싶은 점의 특징값을 가까운 점들의 해당 특징값의 평균으로 추정"
   ]
  },
  {
   "cell_type": "markdown",
   "metadata": {},
   "source": [
    "----"
   ]
  },
  {
   "cell_type": "markdown",
   "metadata": {},
   "source": [
    "## 주의사항\n",
    "1. KNN을 하려면 각 점들을 적절한 특징들로 표현해야 함\n",
    "2. 실제를 잘 반영하는 특징들을 여러 관점에서 고려해야 함\n",
    "3. 좋은 특징을 고르는 데 있어 정답은 없다\n",
    "4. 하지만 특징이 너무 많아지면 예측이 힘들어질 수 있다"
   ]
  },
  {
   "cell_type": "markdown",
   "metadata": {},
   "source": [
    "---------------"
   ]
  },
  {
   "cell_type": "markdown",
   "metadata": {},
   "source": [
    "# 문제 1.\n",
    "### = 거리 유사도로 측정했을 때 실제로 비슷한 고객인데도 그렇게 분류되지 않는 경우가 있다\n",
    "### = 따라서 이 문제에서 거리 유사도는 실제를 충분히 반영하지 못한다\n",
    "### = 여태 본 장르를 벡터로 표현하여 두 벡터들의 코사인 유사도로 KNN을 실시"
   ]
  },
  {
   "cell_type": "markdown",
   "metadata": {},
   "source": [
    "# 문제 2.\n",
    "### = 유사도 계산 시 각 점에 가중치를 부여한다\n",
    "### = 중요고객을 나타내는 점엔 상대적으로 높은 가중치를 설정함으로 더 중요하게 고려하도록 한다"
   ]
  },
  {
   "cell_type": "markdown",
   "metadata": {},
   "source": [
    "# 문제 3.\n",
    "### = 어떤 문제를 어느정도의 의미부여로 풀 지에 따라 다르다\n",
    "### = 어느만큼의 샘플 수가 적절한지, 얼마만큼이 적절한 임계치인지는 \n",
    "### 해결해야 할 문제의 성격에 따라 사람이 정해야 한다"
   ]
  }
 ],
 "metadata": {
  "kernelspec": {
   "display_name": "Python 3",
   "language": "python",
   "name": "python3"
  },
  "language_info": {
   "codemirror_mode": {
    "name": "ipython",
    "version": 3
   },
   "file_extension": ".py",
   "mimetype": "text/x-python",
   "name": "python",
   "nbconvert_exporter": "python",
   "pygments_lexer": "ipython3",
   "version": "3.6.3"
  }
 },
 "nbformat": 4,
 "nbformat_minor": 2
}
