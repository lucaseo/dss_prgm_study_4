{
 "cells": [
  {
   "cell_type": "markdown",
   "metadata": {},
   "source": [
    "# 탐욕 알고리즘 (greedy algorithm)"
   ]
  },
  {
   "cell_type": "markdown",
   "metadata": {},
   "source": [
    "### 탐욕 알고리즘\n",
    "최적해를 구하는 데에 사용되는 근사적인 방법으로, 여러 경우 중 하나를 결정해야 할 때마다 그 순간에 최적이라고 생각되는 것을 선택해 나가는 방식으로 진행하여 최종적인 해답에 도달한다. 순간마다 하는 선택은 그 순간에 대해 지역적으로는 최적이지만, 그 선택들을 계속 수집하여 최종적(전역적)인 해답을 만들었다고 해서, 그것이 최적이라는 보장은 없다."
   ]
  },
  {
   "cell_type": "markdown",
   "metadata": {},
   "source": [
    "### 근사 알고리즘(approximation algorithm)\n",
    "어떤 최적화 문제에 대한 근사해를 구하는 알고리즘을 의미한다. 이 알고리즘은 가장 최적화되는 답을 구할 수는 없지만, 비교적 빠른 시간에 계산이 가능하며 어느 정도 보장된 근사해를 계산할 수 있다. 근사 알고리즘은 NP-완전 문제 등 현재 알려진 빠른 최적화 알고리즘이 없을 문제에 대해 주로 사용된다."
   ]
  },
  {
   "cell_type": "markdown",
   "metadata": {},
   "source": [
    "##  집합 커버링 문제"
   ]
  },
  {
   "cell_type": "markdown",
   "metadata": {},
   "source": [
    "ex) 방송국 문제 \n",
    "\n",
    "미국 50개의 주에 있는 모든 사람에게 라디오 쇼를 방송하려고 할 때, 최대한 적은 수의 방송국을 방문하려고 한다."
   ]
  },
  {
   "cell_type": "markdown",
   "metadata": {},
   "source": [
    "< 근사 알고리즘 (approximation algorithm) >\n",
    "\n",
    "1. 아직 방송하지 않은 지역 중 가장 많은 지역에 방송할 수 있는 방송국을 고른다.\n",
    "\n",
    "2. 모든 주에 방송이 될 때까지 선택을 반복한다.\n",
    "\n",
    "실행속도 : $O({n}^2)$ (선택정렬)\n",
    "\n",
    "n = 방송국의 수\n",
    "\n",
    "근사 알고리즘의 성능 => 얼마나 빠른가 , 최적해에 얼마나 가까운가"
   ]
  },
  {
   "cell_type": "markdown",
   "metadata": {},
   "source": [
    "##  NP-완전 문제"
   ]
  },
  {
   "cell_type": "markdown",
   "metadata": {},
   "source": [
    "ex) 외판원 문제, 집합 커버링 문제 =>모든 가능한 경우를 따져서 최단/최소를 구해야 한다."
   ]
  },
  {
   "cell_type": "markdown",
   "metadata": {},
   "source": [
    "> NP문제인지 알 수 있는 방법?\n",
    "- 항목이 적을 때는 알고리즘이 빠른데, 항목이 늘어나면서 갑자기 느려지는 경우\n",
    "- \"X\"의 모든 조합\"이라고 하면 보통 NP-완전 문제\n",
    "- 문제가 수열을 포함하고 풀기가 어려운 대부분의 경우\n",
    "- 집합 커버링 문제나 외판원 문제로 재정의 할 수 있는 경우\n",
    "\n",
    "$\\therefore $  정확하고 쉬운 방법이 존재하진 않는다. "
   ]
  },
  {
   "cell_type": "markdown",
   "metadata": {},
   "source": [
    "# Summary"
   ]
  },
  {
   "cell_type": "markdown",
   "metadata": {},
   "source": [
    "> \n",
    "- 탐욕 알고리즘은 전역 최적화를 목표로 하지만 실제로는 국소 최적화를 한다.\n",
    "- NP-완전 문제는 빠른 해답이 알려져 있지 않다.\n",
    "- NP-완전 문제가 주어지면 근사 알고리즘을 쓰는 것이 최선이다.\n",
    "- 탐욕 알고리즘은 작성하기도 쉽고 빠르기 때문에 좋은 근사 알고리즘이 될 수 있다.(시간표 짜기 문제, 배낭 채우기 문제)"
   ]
  },
  {
   "cell_type": "code",
   "execution_count": null,
   "metadata": {},
   "outputs": [],
   "source": []
  }
 ],
 "metadata": {
  "kernelspec": {
   "display_name": "Python 3",
   "language": "python",
   "name": "python3"
  },
  "language_info": {
   "codemirror_mode": {
    "name": "ipython",
    "version": 3
   },
   "file_extension": ".py",
   "mimetype": "text/x-python",
   "name": "python",
   "nbconvert_exporter": "python",
   "pygments_lexer": "ipython3",
   "version": "3.6.3"
  }
 },
 "nbformat": 4,
 "nbformat_minor": 2
}
