{
 "cells": [
  {
   "cell_type": "markdown",
   "metadata": {},
   "source": [
    "# palindrome\n",
    "\n",
    "- 앞뒤를 뒤집어도 똑같은 문자열을 palindrome이라고 합니다.\n",
    "\n",
    "- longest_palindrom함수는 문자열 s를 매개변수로 입력받습니다.\n",
    "\n",
    "- s의 부분문자열중 가장 긴 palindrom의 길이를 리턴하는 함수를 완성하세요.\n",
    "\n",
    "예를들어 s가 '토마토맛토마토'이면 7을 리턴하고 '토마토맛있어'이면 3을 리턴합니다."
   ]
  },
  {
   "cell_type": "code",
   "execution_count": 56,
   "metadata": {},
   "outputs": [
    {
     "name": "stdout",
     "output_type": "stream",
     "text": [
      "7\n",
      "3\n"
     ]
    }
   ],
   "source": [
    "def longest_palindrom(st):\n",
    "    def ispalindrome(st):\n",
    "        lenst = len(st) \n",
    "        for i in range(lenst//2):\n",
    "            if st[i] != st[lenst-1-i]:\n",
    "                return False\n",
    "        return True\n",
    "    result = 0\n",
    "    for i in range(len(st)):\n",
    "        for j in range(i,len(st)+1):\n",
    "            if ispalindrome(st[i:j]):\n",
    "                if len(st[i:j]) > result:\n",
    "                    result = len(st[i:j])\n",
    "\n",
    "    return result\n",
    "\n",
    "\n",
    "# 아래는 테스트로 출력해 보기 위한 코드입니다.\n",
    "print(longest_palindrom(\"토마토맛토마토\"))\n",
    "print(longest_palindrom(\"토마토맛있어\"))"
   ]
  },
  {
   "cell_type": "code",
   "execution_count": 78,
   "metadata": {},
   "outputs": [
    {
     "data": {
      "text/plain": [
       "3"
      ]
     },
     "execution_count": 78,
     "metadata": {},
     "output_type": "execute_result"
    }
   ],
   "source": [
    "longest_palindrom(\"툭마막마턱마훅\")"
   ]
  },
  {
   "cell_type": "markdown",
   "metadata": {},
   "source": [
    "# 하샤드수 \n",
    "- 양의 정수 x가 하샤드 수이려면 x의 자릿수의 합으로 x가 나누어져야 합니다.\n",
    "\n",
    "예를들어 18의 자릿수 합은 1+8=9이고, 18은 9로 나누어 떨어지므로 18은 하샤드 수입니다.\n",
    "\n",
    "- Harshad함수는 양의 정수 n을 매개변수로 입력받습니다. 이 n이 하샤드수인지 아닌지 판단하는 함수를 완성하세요.\n",
    "\n",
    "예를들어 n이 10, 12, 18이면 True를 리턴 11, 13이면 False를 리턴하면 됩니다."
   ]
  },
  {
   "cell_type": "code",
   "execution_count": 73,
   "metadata": {},
   "outputs": [
    {
     "name": "stdout",
     "output_type": "stream",
     "text": [
      "True\n"
     ]
    }
   ],
   "source": [
    "def Harshad(n):\n",
    "    # n은 하샤드 수 인가요?\n",
    "    sum_n=0\n",
    "    for idx in range(len(str(n))):\n",
    "        sum_n += int(str(n)[idx])\n",
    "    if n % sum_n ==0:            \n",
    "        return True\n",
    "    else:\n",
    "        return False\n",
    "\n",
    "# 아래는 테스트로 출력해 보기 위한 코드입니다.\n",
    "print(Harshad(108))"
   ]
  },
  {
   "cell_type": "markdown",
   "metadata": {},
   "source": [
    "# 숫자의 표현\n",
    "\n",
    "수학을 공부하던 민지는 재미있는 사실을 발견하였습니다.\n",
    "\n",
    "그 사실은 바로 연속된 자연수의 합으로 어떤 숫자를 표현하는 방법이 여러 가지라는 것입니다. \n",
    "\n",
    "예를 들어, 15를 표현하는 방법은\n",
    "\n",
    "(1+2+3+4+5)\n",
    "\n",
    "(4+5+6)\n",
    "\n",
    "(7+8)\n",
    "\n",
    "(15) 로 총 4가지가 존재합니다. \n",
    "\n",
    "숫자를 입력받아 연속된 수로 표현하는 방법을 반환하는 expressions 함수를 만들어 민지를 도와주세요.\n",
    "\n",
    "예를 들어 15가 입력된다면 4를 반환해 주면 됩니다."
   ]
  },
  {
   "cell_type": "code",
   "execution_count": 15,
   "metadata": {},
   "outputs": [
    {
     "name": "stdout",
     "output_type": "stream",
     "text": [
      "4\n"
     ]
    }
   ],
   "source": [
    "def expressions(num):\n",
    "    result = 0\n",
    "    \n",
    "    for n in range(1,num//2+1):\n",
    "        ck = 1\n",
    "        sumn = n\n",
    "        while ck:\n",
    "            if num == sumn:\n",
    "                ck=0\n",
    "                result += 1\n",
    "            n += 1\n",
    "            sumn += n\n",
    "            if sumn > num:\n",
    "                ck=0\n",
    "\n",
    "    return result+1\n",
    "\n",
    "\n",
    "# 아래는 테스트로 출력해 보기 위한 코드입니다.\n",
    "print(expressions(140));"
   ]
  },
  {
   "cell_type": "markdown",
   "metadata": {},
   "source": [
    "# 야근 지수 \n",
    "\n",
    "회사원인 수민이는 많은 일이 쌓여 있습니다. 수민이는 야근을 최소화하기 위해 남은 일의 작업량을 숫자로 메기고, \n",
    "\n",
    "일에 대한 야근 지수를 줄이기로 결정했습니다. 야근 지수는 남은 일의 작업량을 제곱하여 더한 값을 의미합니다. \n",
    "\n",
    "수민이는 1시간 동안 남은 일 중 하나를 골라 작업량 1만큼 처리할 수 있습니다. \n",
    "\n",
    "수민이의 퇴근까지 남은 N 시간과 각 일에 대한 작업량이 있을 때, noOvertime 함수를 제작하여 수민이의 야근 지수를 최소화 한 결과를 출력해 주세요. \n",
    "\n",
    "예를 들어, N=4 일 때, 남은 일의 작업량이 [4, 3, 3] 이라면 야근 지수를 최소화하기 위해 일을 한 결과는 [2, 2, 2]가 되고 \n",
    "\n",
    "야근 지수는 $2^2 + 2^2 + 2^2 = 12$ 가 되어 12를 반환해 줍니다."
   ]
  },
  {
   "cell_type": "markdown",
   "metadata": {},
   "source": [
    "- 주어진 리스트의 원소에 1을 n번 빼서 원소제곱합이 최소가 되게 만들어라. "
   ]
  },
  {
   "cell_type": "code",
   "execution_count": 22,
   "metadata": {},
   "outputs": [
    {
     "data": {
      "text/plain": [
       "12"
      ]
     },
     "execution_count": 22,
     "metadata": {},
     "output_type": "execute_result"
    }
   ],
   "source": [
    "def noOvertime(n, works):\n",
    "    if n >= sum(works):\n",
    "        return 0\n",
    "    while n > 0:\n",
    "        works[works.index(max(works))] -= 1\n",
    "        n -= 1\n",
    "    result = sum([i*i for i in works])\n",
    "    \n",
    "    return result\n",
    "noOvertime(4,[4,3,3])"
   ]
  },
  {
   "cell_type": "code",
   "execution_count": null,
   "metadata": {},
   "outputs": [],
   "source": []
  }
 ],
 "metadata": {
  "kernelspec": {
   "display_name": "Python 3",
   "language": "python",
   "name": "python3"
  },
  "language_info": {
   "codemirror_mode": {
    "name": "ipython",
    "version": 3
   },
   "file_extension": ".py",
   "mimetype": "text/x-python",
   "name": "python",
   "nbconvert_exporter": "python",
   "pygments_lexer": "ipython3",
   "version": "3.6.4"
  }
 },
 "nbformat": 4,
 "nbformat_minor": 2
}
