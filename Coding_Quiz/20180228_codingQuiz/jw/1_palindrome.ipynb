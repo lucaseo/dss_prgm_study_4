{
 "cells": [
  {
   "cell_type": "markdown",
   "metadata": {},
   "source": [
    "0. for each in string:\n",
    "    1. 중간에서 시작\n",
    "    2. 양 옆으로 검사, 같으면 +2\n",
    "    3. 다르면 현재 갯수 return"
   ]
  },
  {
   "cell_type": "code",
   "execution_count": 40,
   "metadata": {},
   "outputs": [],
   "source": [
    "def find_even(s):\n",
    "    maximum = -1\n",
    "\n",
    "    for i, tok in enumerate(s):\n",
    "        count = 0\n",
    "        offset = 1\n",
    "\n",
    "        while 0 <= i - offset and i < len(s):\n",
    "            right = s[i]\n",
    "            left = s[i - offset]\n",
    "            \n",
    "            if right == left:\n",
    "                count+=2\n",
    "            offset += 1\n",
    "        \n",
    "        if maximum < count:\n",
    "            maximum = count\n",
    "            \n",
    "    return maximum"
   ]
  },
  {
   "cell_type": "code",
   "execution_count": 41,
   "metadata": {},
   "outputs": [],
   "source": [
    "def find_odd(s):\n",
    "    maximum = -1\n",
    "\n",
    "    for i, tok in enumerate(s):\n",
    "        count = 1\n",
    "        offset = 1\n",
    "\n",
    "        while 0 <= i - offset and i + offset < len(s):\n",
    "            right = s[i + offset]\n",
    "            left = s[i - offset]\n",
    "\n",
    "            if right == left:\n",
    "                count += 2\n",
    "\n",
    "            offset += 1\n",
    "\n",
    "        if maximum < count:\n",
    "            maximum = count\n",
    "\n",
    "    return maximum"
   ]
  },
  {
   "cell_type": "code",
   "execution_count": 42,
   "metadata": {},
   "outputs": [],
   "source": [
    "def find(s):\n",
    "    return find_even(s) if len(s) % 2 == 0 else find_odd(s)"
   ]
  },
  {
   "cell_type": "code",
   "execution_count": 43,
   "metadata": {},
   "outputs": [
    {
     "data": {
      "text/plain": [
       "3"
      ]
     },
     "execution_count": 43,
     "metadata": {},
     "output_type": "execute_result"
    }
   ],
   "source": [
    "s = '토마토는맛있어'\n",
    "find(s)"
   ]
  }
 ],
 "metadata": {
  "kernelspec": {
   "display_name": "Python 3",
   "language": "python",
   "name": "python3"
  },
  "language_info": {
   "codemirror_mode": {
    "name": "ipython",
    "version": 3
   },
   "file_extension": ".py",
   "mimetype": "text/x-python",
   "name": "python",
   "nbconvert_exporter": "python",
   "pygments_lexer": "ipython3",
   "version": "3.6.3"
  }
 },
 "nbformat": 4,
 "nbformat_minor": 2
}
