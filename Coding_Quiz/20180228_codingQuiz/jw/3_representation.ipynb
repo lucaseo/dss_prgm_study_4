{
 "cells": [
  {
   "cell_type": "code",
   "execution_count": 20,
   "metadata": {},
   "outputs": [],
   "source": [
    "def find_n2(value):\n",
    "\n",
    "    count = 1\n",
    "    \n",
    "    for number in range(1, value):\n",
    "        summation = 0\n",
    "        \n",
    "        for each in range(number,value):\n",
    "            summation += each\n",
    "            \n",
    "            if summation == value:\n",
    "                print(number,each)\n",
    "                count += 1\n",
    "                break\n",
    "            elif summation > value:\n",
    "                break\n",
    "                \n",
    "    return count"
   ]
  },
  {
   "cell_type": "code",
   "execution_count": null,
   "metadata": {},
   "outputs": [],
   "source": []
  }
 ],
 "metadata": {
  "kernelspec": {
   "display_name": "Python 3",
   "language": "python",
   "name": "python3"
  },
  "language_info": {
   "codemirror_mode": {
    "name": "ipython",
    "version": 3
   },
   "file_extension": ".py",
   "mimetype": "text/x-python",
   "name": "python",
   "nbconvert_exporter": "python",
   "pygments_lexer": "ipython3",
   "version": "3.6.3"
  }
 },
 "nbformat": 4,
 "nbformat_minor": 2
}
