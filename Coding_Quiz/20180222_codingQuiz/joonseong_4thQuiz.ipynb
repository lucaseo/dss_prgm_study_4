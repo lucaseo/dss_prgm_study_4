{
 "cells": [
  {
   "cell_type": "markdown",
   "metadata": {},
   "source": [
    "1차원의 점들이 주어졌을 때, 그 중 가장 거리가 짧은 것의 쌍을 출력하는 함수를 작성하시오. (단 점들의 배열은 모두 정렬되어있다고 가정한다.)\n",
    "\n",
    "예를들어 S={1, 3, 4, 8, 13, 17, 20} 이 주어졌다면, 결과값은 (3, 4)가 될 것이다.\n",
    "\n"
   ]
  },
  {
   "cell_type": "code",
   "execution_count": 1,
   "metadata": {},
   "outputs": [
    {
     "name": "stdout",
     "output_type": "stream",
     "text": [
      "[76, 51, 100, 81, 130, 29, 28, 37, 49, 2]\n",
      "(28,29)\n"
     ]
    }
   ],
   "source": [
    "import random\n",
    "np.random.seed(23)\n",
    "data = [random.randint(1,200) for _ in range(10)]\n",
    "print(data)\n",
    "data.sort()\n",
    "\n",
    "lenls = [data[x+1] - data[x] for x in range(len(data)-1)]\n",
    "m = data[len(data)-1]\n",
    "for len_ in lenls:\n",
    "    if m > len_:\n",
    "        m = len_\n",
    "for idx, x in enumerate(lenls):\n",
    "    if x == m:\n",
    "        print('({},{})'.format(data[idx],data[idx+1]))"
   ]
  },
  {
   "cell_type": "markdown",
   "metadata": {},
   "source": [
    "The radical of n, rad(n), is the product of distinct prime factors of n. For example, 504 = $2^3$ × $3^2$ × 7, so rad(504) = 2 × 3 × 7 = 42.\n",
    "\n",
    "We shall define the triplet of positive integers (a, b, c) to be an abc-hit if:\n",
    "\n",
    "1) GCD(a, b) = GCD(a, c) = GCD(b, c) = 1\n",
    "\n",
    "2) a < b\n",
    "\n",
    "3) a + b = c\n",
    "\n",
    "4) rad(abc) < c\n",
    "\n",
    "For example, (5, 27, 32) is an abc-hit, because:\n",
    "\n",
    "1) GCD(5, 27) = GCD(5, 32) = GCD(27, 32) = 1\n",
    "\n",
    "2) 5 < 27\n",
    "\n",
    "3) 5 + 27 = 32\n",
    "\n",
    "4) rad(4320) = 30 < 32\n",
    "\n",
    "It turns out that abc-hits are quite rare and there are only thirty-one abc-hits for c < 1000, with ∑c = 12523.\n",
    "\n",
    "Find ∑c for c < 120000."
   ]
  },
  {
   "cell_type": "code",
   "execution_count": 1,
   "metadata": {},
   "outputs": [
    {
     "data": {
      "text/plain": [
       "42"
      ]
     },
     "execution_count": 1,
     "metadata": {},
     "output_type": "execute_result"
    }
   ],
   "source": [
    "def prime_num_list(n):\n",
    "    prime_num = []\n",
    "    for i in range(2,n+1):\n",
    "        if len(prime_num) == 0:\n",
    "            prime_num.append(i)       \n",
    "        else:\n",
    "            check = 0\n",
    "            for k in range(len(prime_num)) :\n",
    "                if i % prime_num[k] != 0 :\n",
    "                    check += 1\n",
    "            if check == len(prime_num) :\n",
    "                prime_num.append(i)\n",
    "    return prime_num\n",
    "    \n",
    "def rad(num):\n",
    "    result = 1\n",
    "    for n in prime_num_list(num):\n",
    "        if num % n == 0:\n",
    "            result *= n\n",
    "    return result\n",
    "rad(504)\n"
   ]
  },
  {
   "cell_type": "code",
   "execution_count": 2,
   "metadata": {},
   "outputs": [
    {
     "data": {
      "text/plain": [
       "5"
      ]
     },
     "execution_count": 2,
     "metadata": {},
     "output_type": "execute_result"
    }
   ],
   "source": [
    "def gcd(a, b):\n",
    "    c = 0\n",
    "    while(b):\n",
    "        c = a % b\n",
    "        a = b\n",
    "        b = c\n",
    "    return a\n",
    "gcd(10,15)"
   ]
  },
  {
   "cell_type": "code",
   "execution_count": 3,
   "metadata": {},
   "outputs": [
    {
     "data": {
      "text/plain": [
       "False"
      ]
     },
     "execution_count": 3,
     "metadata": {},
     "output_type": "execute_result"
    }
   ],
   "source": [
    "def is_abchit(a, b, c):\n",
    "    if gcd(a, b) != 1 or gcd(b, c) != 1 or gcd(c, a) != 1:\n",
    "        return False\n",
    "    elif a >= b :\n",
    "        return False\n",
    "    elif a + b != c:\n",
    "        return False\n",
    "    elif rad(a*b*c) < c :\n",
    "        return True\n",
    "    else:\n",
    "        return False\n",
    "is_abchit(1, 64, 65)"
   ]
  },
  {
   "cell_type": "code",
   "execution_count": null,
   "metadata": {},
   "outputs": [],
   "source": [
    "c = 3\n",
    "sum_c = 0\n",
    "while(c < 50):\n",
    "    for idx in range(1,c//2):\n",
    "        a = idx\n",
    "        b = c - a\n",
    "        if is_abchit(a,b,c):\n",
    "            sum_c += c\n",
    "    c += 1\n",
    "sum_c    "
   ]
  },
  {
   "cell_type": "markdown",
   "metadata": {},
   "source": [
    "1)   c는 소수이면 안된다.\n",
    "\n",
    "rad(abc) < c 를 만족하려면 c가 rad에서 줄어들어야 c보다 rad가 작아진다.\n",
    "\n",
    "2) rad(abc) = rad(a) * rad(b) * rad(c)"
   ]
  },
  {
   "cell_type": "code",
   "execution_count": null,
   "metadata": {},
   "outputs": [],
   "source": [
    "rad(100000)"
   ]
  },
  {
   "cell_type": "code",
   "execution_count": null,
   "metadata": {},
   "outputs": [],
   "source": []
  }
 ],
 "metadata": {
  "kernelspec": {
   "display_name": "Python 3",
   "language": "python",
   "name": "python3"
  },
  "language_info": {
   "codemirror_mode": {
    "name": "ipython",
    "version": 3
   },
   "file_extension": ".py",
   "mimetype": "text/x-python",
   "name": "python",
   "nbconvert_exporter": "python",
   "pygments_lexer": "ipython3",
   "version": "3.6.3"
  }
 },
 "nbformat": 4,
 "nbformat_minor": 2
}
