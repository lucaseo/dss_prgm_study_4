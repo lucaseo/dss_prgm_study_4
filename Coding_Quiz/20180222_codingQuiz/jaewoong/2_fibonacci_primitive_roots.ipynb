{
 "cells": [
  {
   "cell_type": "code",
   "execution_count": null,
   "metadata": {},
   "outputs": [],
   "source": [
    "# 1. 소수마다 primitive root가 있을 수 있다.\n",
    "# 11로 나머지 연산을 한 결과가 1~10까지 발생시키는 애들\n",
    "\n",
    "# 2. 그 primitive root가 fibonacci primitive root려면\n",
    "# a^n + a^n+1 = a^n+2 여야 함\n",
    "\n",
    "# 3. 1억 이하면서 하나 이상의 fibonacci primitive root를 가지는\n",
    "# 소수들의 합을 구해라"
   ]
  },
  {
   "cell_type": "code",
   "execution_count": null,
   "metadata": {},
   "outputs": [],
   "source": [
    "# 1. Primitive root = Mobius function\n",
    "# 2. Validating fibonacci = Golden ratio"
   ]
  },
  {
   "cell_type": "markdown",
   "metadata": {},
   "source": [
    "http://celdee.tistory.com/168\n",
    "\n",
    "https://en.wikipedia.org/wiki/Primitive_root_modulo_n\n",
    "\n",
    "https://m.blog.naver.com/PostView.nhn?blogId=gt7461&logNo=110140751435&proxyReferer=https%3A%2F%2Fwww.google.co.kr%2F"
   ]
  },
  {
   "cell_type": "markdown",
   "metadata": {},
   "source": [
    "# 1억 이하의 소수를 찾으려면 상한이 어느정도나 되야 할까\n",
    "# 10만 이전의 모든 소수의 합은 얼만지 체크"
   ]
  },
  {
   "cell_type": "code",
   "execution_count": 88,
   "metadata": {},
   "outputs": [],
   "source": [
    "import numpy as np\n",
    "upper_bound = 1E5\n",
    "field = np.array([each for each in np.arange(2,upper_bound)])"
   ]
  },
  {
   "cell_type": "code",
   "execution_count": 89,
   "metadata": {},
   "outputs": [],
   "source": [
    "prime = 2\n",
    "\n",
    "primes = [prime]\n",
    "\n",
    "# Sieve of Erathosthenes\n",
    "while True:\n",
    "    field = field[field % prime != 0]\n",
    "\n",
    "    if field.size == 0:\n",
    "        break\n",
    "\n",
    "    prime = field.min()\n",
    "\n",
    "    primes.append(prime)"
   ]
  },
  {
   "cell_type": "code",
   "execution_count": 90,
   "metadata": {},
   "outputs": [
    {
     "data": {
      "text/plain": [
       "454396537.0"
      ]
     },
     "execution_count": 90,
     "metadata": {},
     "output_type": "execute_result"
    }
   ],
   "source": [
    "sum(primes)"
   ]
  },
  {
   "cell_type": "code",
   "execution_count": null,
   "metadata": {},
   "outputs": [],
   "source": [
    "# 1. prime to np.array\n",
    "# 2. prime.apply(modulo)\n",
    "\n",
    "for prime in primes:\n",
    "    n_range = np.arange(0,prime - 1)\n",
    "    \n",
    "    for each in range(2,prime):\n",
    "        modulo = {(each**mul)%prime for mul in n_range}\n",
    "    "
   ]
  },
  {
   "cell_type": "markdown",
   "metadata": {},
   "source": [
    "## 대략 4억 5천\n",
    "그렇다고 10만 이하의 fibonacci primitive root를 가지는 소수의 합이 1억이 된다는 보장은 없지만 10만으로 상한을 잡음"
   ]
  },
  {
   "cell_type": "markdown",
   "metadata": {},
   "source": [
    "모든 소수 p는 다음의 primitive root를 가진다 $$  \\phi(p-1)$$\n",
    "1. 모든 소수는 primitive root를 가진다.\n",
    "2. 굳이 소수 하나하나에 대해 root를 가지는지 검사할 필요없음\n",
    "3. 어떤 root를 가지는지만 구하면 된다\n",
    "4. Mobius function\n",
    "  > primitive root의 곱이 1 mod p 와 congruent\n",
    "  \n",
    "  > primitive root의 합이 mobius(p-1) mod p 와 congruent"
   ]
  },
  {
   "cell_type": "code",
   "execution_count": null,
   "metadata": {},
   "outputs": [],
   "source": []
  }
 ],
 "metadata": {
  "kernelspec": {
   "display_name": "Python 3",
   "language": "python",
   "name": "python3"
  },
  "language_info": {
   "codemirror_mode": {
    "name": "ipython",
    "version": 3
   },
   "file_extension": ".py",
   "mimetype": "text/x-python",
   "name": "python",
   "nbconvert_exporter": "python",
   "pygments_lexer": "ipython3",
   "version": "3.6.3"
  }
 },
 "nbformat": 4,
 "nbformat_minor": 2
}
