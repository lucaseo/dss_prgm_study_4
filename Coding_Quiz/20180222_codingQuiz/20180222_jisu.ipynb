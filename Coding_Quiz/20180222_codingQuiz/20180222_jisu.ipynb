{
 "cells": [
  {
   "cell_type": "markdown",
   "metadata": {},
   "source": [
    "# 1\n",
    "1차원의 점들이 주어졌을 때, 그 중 가장 거리가 짧은 것의 쌍을 출력하는 함수를 작성하시오. (단 점들의 배열은 모두 정렬되어있다고 가정한다.)\n",
    "\n",
    "예를들어 S={1, 3, 4, 8, 13, 17, 20} 이 주어졌다면, 결과값은 (3, 4)가 될 것이다."
   ]
  },
  {
   "cell_type": "code",
   "execution_count": 27,
   "metadata": {},
   "outputs": [],
   "source": [
    "def min_dist(list):\n",
    "    new_list = [list[i+1] - list[i] for i in range(len(list)-1)]\n",
    "    md = min(new_list)\n",
    "    index = [i for i, j in enumerate(new_list) if j == md] \n",
    "    answer = []\n",
    "    for i in index:\n",
    "        answer.append((list[i],list[i+1]))\n",
    "    return(answer)\n",
    "### 거리가 최소인 것이 여러개 일 때도 가능 "
   ]
  },
  {
   "cell_type": "code",
   "execution_count": 33,
   "metadata": {},
   "outputs": [
    {
     "name": "stdout",
     "output_type": "stream",
     "text": [
      "[(3, 4)]\n",
      "[(3, 4), (4, 5), (13, 14)]\n"
     ]
    }
   ],
   "source": [
    "ex = [1, 3, 4, 8, 13, 17, 20]\n",
    "ex_2 = [-1, 1, 3, 4, 5, 8, 13, 14, 20]\n",
    "print(min_dist(ex))\n",
    "print(min_dist(ex_2))"
   ]
  },
  {
   "cell_type": "markdown",
   "metadata": {},
   "source": [
    "# 2\n",
    "The most naive way of computing ${n}^5$ requires fourteen multiplications:\n",
    "\n",
    "$ n × n × ... × n = {n}^{15}$\n",
    "\n",
    "But using a \"binary\" method you can compute it in six multiplications:\n",
    "\n",
    "However it is yet possible to compute it in only five multiplications:\n",
    "\n",
    "We shall define m(k) to be the minimum number of multiplications to compute ${n}^{k}$; for example m(15) = 5.\n",
    "\n",
    "For 1 ≤ k ≤ 200, find ∑ m(k)."
   ]
  },
  {
   "cell_type": "code",
   "execution_count": null,
   "metadata": {},
   "outputs": [],
   "source": []
  },
  {
   "cell_type": "markdown",
   "metadata": {},
   "source": [
    "# 3\n",
    "When we calculate 8n modulo 11 for n=0 to 9 we get: 1, 8, 9, 6, 4, 10, 3, 2, 5, 7.\n",
    "As we see all possible values from 1 to 10 occur. So 8 is a primitive root of 11.\n",
    "But there is more:\n",
    "If we take a closer look we see:\n",
    "\n",
    "1+8=9\n",
    "\n",
    "8+9=17≡6 mod 11\n",
    "\n",
    "9+6=15≡4 mod 11\n",
    "\n",
    "6+4=10\n",
    "\n",
    "4+10=14≡3 mod 11\n",
    "\n",
    "10+3=13≡2 mod 11\n",
    "\n",
    "3+2=5\n",
    "\n",
    "2+5=7\n",
    "\n",
    "5+7=12≡1 mod 11.\n",
    "\n",
    "So the powers of 8 mod 11 are cyclic with period 10, and 8n + 8n+1 ≡ 8n+2 (mod 11).\n",
    "8 is called a Fibonacci primitive root of 11.\n",
    "Not every prime has a Fibonacci primitive root.\n",
    "There are 323 primes less than 10000 with one or more Fibonacci primitive roots and the sum of these primes is 1480491.\n",
    "Find the sum of the primes less than 100,000,000 with at least one Fibonacci primitive root."
   ]
  },
  {
   "cell_type": "code",
   "execution_count": null,
   "metadata": {},
   "outputs": [],
   "source": []
  },
  {
   "cell_type": "markdown",
   "metadata": {},
   "source": [
    "# 4\n",
    "The radical of n, rad(n), is the product of distinct prime factors of n. For example, 504 = 23 × 32 × 7, so rad(504) = 2 × 3 × 7 = 42.\n",
    "\n",
    "We shall define the triplet of positive integers (a, b, c) to be an abc-hit if:\n",
    "\n",
    "GCD(a, b) = GCD(a, c) = GCD(b, c) = 1\n",
    "a < b\n",
    "a + b = c\n",
    "rad(abc) < c\n",
    "For example, (5, 27, 32) is an abc-hit, because:\n",
    "\n",
    "GCD(5, 27) = GCD(5, 32) = GCD(27, 32) = 1\n",
    "5 < 27\n",
    "5 + 27 = 32\n",
    "rad(4320) = 30 < 32\n",
    "It turns out that abc-hits are quite rare and there are only thirty-one abc-hits for c < 1000, with ∑c = 12523.\n",
    "\n",
    "Find ∑c for c < 120000."
   ]
  },
  {
   "cell_type": "code",
   "execution_count": 1,
   "metadata": {},
   "outputs": [],
   "source": [
    "### 소수, 에라토스테네스의체, 소인수분해, radi\n",
    "import math\n",
    "\n",
    "def primes(n):\n",
    "    composites = []\n",
    "    prime = [2]\n",
    "    i = 3\n",
    "    \n",
    "    while(i <= n):\n",
    "        if i not in composites:\n",
    "            prime.append(i)\n",
    "            j = i\n",
    "            while(j <= (n / i)):\n",
    "                composites.append(i*j)\n",
    "                j += i\n",
    "        i += 1\n",
    "    return prime\n",
    "\n",
    "def eras(n):\n",
    "    required_primes = primes(int(math.sqrt(n)))\n",
    "    result = [2]\n",
    "    i = 3\n",
    "    \n",
    "    if n == 1:\n",
    "        return []\n",
    "    \n",
    "    while(i <= n):\n",
    "        for prime in required_primes:\n",
    "            if i != prime and i % prime == 0:\n",
    "                break\n",
    "            else:\n",
    "                result.append(i)\n",
    "            i += 2\n",
    "    return result\n",
    "\n",
    "def fact(num):\n",
    "    possible_prime = eras(int(math.sqrt(num)))\n",
    "    for divisor in possible_prime:\n",
    "        if num % divisor == 0:\n",
    "            temp = int(num/divisor)\n",
    "            return str(divisor) + ',' + str(fact(temp))\n",
    "    return str(num)\n",
    "\n",
    "\n",
    "def rad(num):\n",
    "    rad = fact(num).split(\",\")\n",
    "    rad = list(set(rad))\n",
    "    mul = 1\n",
    "    for i in rad:\n",
    "        mul *= int(i)\n",
    "    return mul"
   ]
  },
  {
   "cell_type": "code",
   "execution_count": 124,
   "metadata": {},
   "outputs": [
    {
     "data": {
      "text/plain": [
       "'2,2,2,3,3,7'"
      ]
     },
     "execution_count": 124,
     "metadata": {},
     "output_type": "execute_result"
    }
   ],
   "source": [
    "fact(504)"
   ]
  },
  {
   "cell_type": "code",
   "execution_count": 114,
   "metadata": {},
   "outputs": [
    {
     "data": {
      "text/plain": [
       "42"
      ]
     },
     "execution_count": 114,
     "metadata": {},
     "output_type": "execute_result"
    }
   ],
   "source": [
    "rad(504)"
   ]
  },
  {
   "cell_type": "code",
   "execution_count": 2,
   "metadata": {},
   "outputs": [],
   "source": [
    "list_c = []\n",
    "for c in range(3, 1000):\n",
    "    cc = fact(c).split(\",\")\n",
    "    if len(cc) != len(set(cc)):   ###rad(c) < c  인 경우\n",
    "        list_c.append(int(c))\n"
   ]
  },
  {
   "cell_type": "code",
   "execution_count": 3,
   "metadata": {},
   "outputs": [
    {
     "data": {
      "text/plain": [
       "391"
      ]
     },
     "execution_count": 3,
     "metadata": {},
     "output_type": "execute_result"
    }
   ],
   "source": [
    "len(list_c)"
   ]
  },
  {
   "cell_type": "code",
   "execution_count": 4,
   "metadata": {},
   "outputs": [],
   "source": [
    "answer = []\n",
    "for c in list_c:\n",
    "    f_c = fact(c).split(\",\")\n",
    "    for a in range(1,c//2):\n",
    "        f_a = fact(a).split(\",\")\n",
    "        b = c - a\n",
    "        f_b = fact(b).split(\",\")\n",
    "        f_ab = fact(a*b).split(\",\")\n",
    "        if set(f_a) - set(f_b) == set(f_a) and set(f_ab) - set(f_c) == set(f_ab):\n",
    "            if rad(a*b*c) < c:\n",
    "                answer.append(c)\n"
   ]
  },
  {
   "cell_type": "code",
   "execution_count": 5,
   "metadata": {},
   "outputs": [
    {
     "data": {
      "text/plain": [
       "[9,\n",
       " 32,\n",
       " 49,\n",
       " 64,\n",
       " 81,\n",
       " 81,\n",
       " 125,\n",
       " 128,\n",
       " 225,\n",
       " 243,\n",
       " 245,\n",
       " 250,\n",
       " 256,\n",
       " 256,\n",
       " 289,\n",
       " 343,\n",
       " 375,\n",
       " 512,\n",
       " 512,\n",
       " 513,\n",
       " 539,\n",
       " 625,\n",
       " 625,\n",
       " 625,\n",
       " 676,\n",
       " 729,\n",
       " 729,\n",
       " 729,\n",
       " 729,\n",
       " 961,\n",
       " 968]"
      ]
     },
     "execution_count": 5,
     "metadata": {},
     "output_type": "execute_result"
    }
   ],
   "source": [
    "answer"
   ]
  },
  {
   "cell_type": "code",
   "execution_count": 6,
   "metadata": {},
   "outputs": [
    {
     "data": {
      "text/plain": [
       "12523"
      ]
     },
     "execution_count": 6,
     "metadata": {},
     "output_type": "execute_result"
    }
   ],
   "source": [
    "sum(answer)"
   ]
  },
  {
   "cell_type": "code",
   "execution_count": null,
   "metadata": {},
   "outputs": [],
   "source": []
  }
 ],
 "metadata": {
  "kernelspec": {
   "display_name": "Python 3",
   "language": "python",
   "name": "python3"
  },
  "language_info": {
   "codemirror_mode": {
    "name": "ipython",
    "version": 3
   },
   "file_extension": ".py",
   "mimetype": "text/x-python",
   "name": "python",
   "nbconvert_exporter": "python",
   "pygments_lexer": "ipython3",
   "version": "3.6.3"
  }
 },
 "nbformat": 4,
 "nbformat_minor": 2
}
